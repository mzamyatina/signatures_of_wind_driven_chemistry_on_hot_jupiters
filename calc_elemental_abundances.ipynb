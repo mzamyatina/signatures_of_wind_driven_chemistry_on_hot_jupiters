{
 "cells": [
  {
   "cell_type": "markdown",
   "id": "cdc5e707-b83b-4af7-8182-ab70e5be3a38",
   "metadata": {},
   "source": [
    "## Calculate elemental abundances"
   ]
  },
  {
   "cell_type": "code",
   "execution_count": 1,
   "id": "66936022-c1ac-438c-9b45-d74979b24ed5",
   "metadata": {},
   "outputs": [],
   "source": [
    "# ! Element names; abundances relative to hydrogen; masses; radii                 \n",
    "# ! Abundances from Caffau+11 - C, N, O, K                                        \n",
    "# ! Abundances from Asplund+09 (photosphere) - Na, Ar, Ti, V, Cl, Cr, Rb, F       \n",
    "# ! Abundances from Asplund+09 (meteorites) - Li, Cs                              \n",
    "# ! Abundances from Asplund+09 (protosolar) - He                                  \n",
    "# elenames(1)  = 'H'   ; Aele(1)  = 1.0000E+00 ; elemass(1)  = 1.007947           \n",
    "# elenames(2)  = 'He'  ; Aele(2)  = 9.5500E-02 ; elemass(2)  = 4.0026022          \n",
    "# elenames(3)  = 'C'   ; Aele(3)  = 3.1623E-04 ; elemass(3)  = 12.01078           \n",
    "# elenames(4)  = 'N'   ; Aele(4)  = 7.2444E-05 ; elemass(4)  = 14.00672           \n",
    "# elenames(5)  = 'O'   ; Aele(5)  = 5.7544E-04 ; elemass(5)  = 15.99943           \n",
    "# elenames(6)  = 'Na'  ; Aele(6)  = 1.7378E-06 ; elemass(6)  = 22.989769          \n",
    "# elenames(7)  = 'K'   ; Aele(7)  = 1.2882E-07 ; elemass(7)  = 39.0983            \n",
    "# elenames(8)  = 'Ar'  ; Aele(8)  = 2.5119E-06 ; elemass(8)  = 39.9481            \n",
    "# elenames(9)  = 'Ti'  ; Aele(9) = 8.9125E-08 ; elemass(9) = 47.8671              \n",
    "# elenames(10) = 'V'   ; Aele(10) = 8.5114E-09 ; elemass(10) = 50.94151           \n",
    "# elenames(11) = 'Cl'  ; Aele(11) = 3.1623E-07 ; elemass(11) = 35.453             \n",
    "# elenames(12) = 'Cr'  ; Aele(12) = 4.3652E-07 ; elemass(12) = 51.9961            \n",
    "# elenames(13) = 'Li'  ; Aele(13) = 1.8197E-09 ; elemass(13) = 6.941              \n",
    "# elenames(14) = 'Cs'  ; Aele(14) = 1.2023E-11 ; elemass(14) = 132.9055           \n",
    "# elenames(15) = 'Rb'  ; Aele(15) = 3.3113E-10 ; elemass(15) = 85.4378            \n",
    "# elenames(16) = 'F'   ; Aele(16) = 3.6308E-08 ; elemass(16) = 18.9984"
   ]
  },
  {
   "cell_type": "code",
   "execution_count": 2,
   "id": "1b1eca2c-a40d-4e32-ae10-f917f4d73c3b",
   "metadata": {},
   "outputs": [],
   "source": [
    "def func(A_i):\n",
    "    out = f\"{10**(A_i-12):0.4e}\"\n",
    "    return out"
   ]
  },
  {
   "cell_type": "code",
   "execution_count": 3,
   "id": "6223707e-9a11-46a2-a898-5b580a5ab2f1",
   "metadata": {},
   "outputs": [
    {
     "name": "stdout",
     "output_type": "stream",
     "text": [
      "He Asplund2009 (photosphere) 8.5114e-02; Asplund2009 (protosolar) 9.5499e-02\n",
      "C Asplund2009 (photosphere) 2.6915e-04; Caffau2011 3.1623e-04\n",
      "N Asplund2009 (photosphere) 6.7608e-05; Caffau2011 7.2444e-05\n",
      "O Asplund2009 (photosphere) 4.8978e-04; Caffau2011 5.7544e-04\n",
      "Na Asplund2009 (photosphere) 1.7378e-06\n",
      "K Asplund2009 (photosphere) 1.0715e-07; Caffau2011 1.2882e-07\n",
      "Ar Asplund2009 (photosphere) 2.5119e-06\n",
      "Ti Asplund2009 (photosphere) 8.9125e-08\n",
      "V Asplund2009 (photosphere) 8.5114e-09\n",
      "Cl Asplund2009 (photosphere) 3.1623e-07\n",
      "Cr Asplund2009 (photosphere) 4.3652e-07\n",
      "Li Asplund2009 (meteorites) 1.8197e-09\n",
      "Cs Asplund2009 (meteorites) 1.2023e-11\n",
      "Rb Asplund2009 (photosphere) 3.3113e-10\n",
      "F Asplund2009 (photosphere) 3.6308e-08\n"
     ]
    }
   ],
   "source": [
    "print(f\"He Asplund2009 (photosphere) {func(10.93)}; Asplund2009 (protosolar) {func(10.98)}\")\n",
    "print(f\"C Asplund2009 (photosphere) {func(8.43)}; Caffau2011 {func(8.50)}\")\n",
    "print(f\"N Asplund2009 (photosphere) {func(7.83)}; Caffau2011 {func(7.86)}\")\n",
    "print(f\"O Asplund2009 (photosphere) {func(8.69)}; Caffau2011 {func(8.76)}\")\n",
    "print(f\"Na Asplund2009 (photosphere) {func(6.24)}\")\n",
    "print(f\"K Asplund2009 (photosphere) {func(5.03)}; Caffau2011 {func(5.11)}\")\n",
    "print(f\"Ar Asplund2009 (photosphere) {func(6.40)}\")\n",
    "print(f\"Ti Asplund2009 (photosphere) {func(4.95)}\")\n",
    "print(f\"V Asplund2009 (photosphere) {func(3.93)}\")\n",
    "print(f\"Cl Asplund2009 (photosphere) {func(5.50)}\")\n",
    "print(f\"Cr Asplund2009 (photosphere) {func(5.64)}\")\n",
    "print(f\"Li Asplund2009 (meteorites) {func(3.26)}\")\n",
    "print(f\"Cs Asplund2009 (meteorites) {func(1.08)}\")\n",
    "print(f\"Rb Asplund2009 (photosphere) {func(2.52)}\")\n",
    "print(f\"F Asplund2009 (photosphere) {func(4.56)}\")"
   ]
  }
 ],
 "metadata": {
  "kernelspec": {
   "display_name": "Python 3",
   "language": "python",
   "name": "python3"
  },
  "language_info": {
   "codemirror_mode": {
    "name": "ipython",
    "version": 3
   },
   "file_extension": ".py",
   "mimetype": "text/x-python",
   "name": "python",
   "nbconvert_exporter": "python",
   "pygments_lexer": "ipython3",
   "version": "3.8.10"
  }
 },
 "nbformat": 4,
 "nbformat_minor": 5
}
