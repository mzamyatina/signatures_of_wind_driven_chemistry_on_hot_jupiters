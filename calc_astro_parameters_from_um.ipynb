{
 "cells": [
  {
   "cell_type": "markdown",
   "id": "6f732980-571c-4886-931f-3aa1d6017e92",
   "metadata": {},
   "source": [
    "## Determine UM domain height"
   ]
  },
  {
   "cell_type": "code",
   "execution_count": 1,
   "id": "3bc2dc29-8c54-4dc4-b64b-9a19e9072df6",
   "metadata": {},
   "outputs": [],
   "source": [
    "from pathlib import Path\n",
    "\n",
    "import iris\n",
    "import numpy as np"
   ]
  },
  {
   "cell_type": "code",
   "execution_count": 2,
   "id": "1ff9e232-cc0d-4bde-886f-aa618abef3de",
   "metadata": {},
   "outputs": [],
   "source": [
    "from aeolus.const import init_const"
   ]
  },
  {
   "cell_type": "code",
   "execution_count": 3,
   "id": "8e0aa020-2349-496d-9ba6-b3c8f0e35b52",
   "metadata": {},
   "outputs": [],
   "source": [
    "from util_mypaths import path_to_constants, path_to_data_umserve"
   ]
  },
  {
   "cell_type": "code",
   "execution_count": 4,
   "id": "4ba4186d-016d-4038-bc38-4955a53cdec5",
   "metadata": {},
   "outputs": [],
   "source": [
    "# Functions to estimate the required model domain height\n",
    "def calc_top_of_atm_height(planet_specific_gas_constant, planet_surface_gravity):\n",
    "    \"\"\"Calculate the top of the atmosphere height in [m].\"\"\"\n",
    "    r_s = planet_specific_gas_constant.data\n",
    "    g = planet_surface_gravity.data\n",
    "    pres_0 = 2e7  # [Pa]\n",
    "    pres = 1  # [Pa]\n",
    "    temp = 950  # [K] adjust based on the P-T profile from ATMO !!!\n",
    "\n",
    "    hght = -(r_s * temp / g) * np.log(pres / pres_0)\n",
    "    return hght\n",
    "\n",
    "\n",
    "def calc_top_of_atm_pressure(planet_specific_gas_constant, planet_surface_gravity):\n",
    "    \"\"\"Calculate the top of the atmosphere pressure in [Pa].\"\"\"\n",
    "    r_s = planet_specific_gas_constant.data\n",
    "    g = planet_surface_gravity.data\n",
    "    pres_0 = 2e7  # [Pa]\n",
    "    temp = 950  # [K] adjust based on the P-T profile from ATMO !!!\n",
    "    hght = 4.6e6  # [m] adjust\n",
    "\n",
    "    pres = pres_0 * np.exp(-hght * g / (r_s * temp))\n",
    "    return pres\n",
    "\n",
    "\n",
    "def exner_to_pressure(exner, planet_specific_gas_constant, planet_specific_heat_capacity):\n",
    "    \"\"\"Convert the non-dimentional (Exner) pressure to pressure in [Pa].\"\"\"\n",
    "    r_s = planet_specific_gas_constant.data\n",
    "    c_p = planet_specific_heat_capacity.data\n",
    "    pres_0 = 2e7  # [Pa]\n",
    "\n",
    "    pres = pres_0 * exner ** (c_p / r_s)\n",
    "    return pres"
   ]
  },
  {
   "cell_type": "markdown",
   "id": "9c11f87e-67e7-49b5-94ca-24b490981f60",
   "metadata": {},
   "source": [
    "#### Find theoretical top-of-the-atmosphere height and pressure"
   ]
  },
  {
   "cell_type": "code",
   "execution_count": 5,
   "id": "68ac943c-3b7c-42d8-abf6-c3233b6ac09d",
   "metadata": {},
   "outputs": [
    {
     "name": "stdout",
     "output_type": "stream",
     "text": [
      "TOA height [m]: 4251901.088635854\n",
      "TOA pressure [Pa]: 0.25250613767160984\n"
     ]
    }
   ],
   "source": [
    "hatp11b_const = init_const(\"hatp11b\", path_to_constants)\n",
    "hd189733b_const = init_const(\"hd189733b\", path_to_constants)\n",
    "hd209458b_const = init_const(\"hd209458b\", path_to_constants)\n",
    "wasp17b_const = init_const(\"wasp17b\", path_to_constants)\n",
    "\n",
    "planet_const = hatp11b_const\n",
    "\n",
    "print(\n",
    "    \"TOA height [m]:\",\n",
    "    calc_top_of_atm_height(\n",
    "        planet_const.planet_specific_gas_constant, planet_const.planet_surface_gravity\n",
    "    ),\n",
    ")\n",
    "print(\n",
    "    \"TOA pressure [Pa]:\",\n",
    "    calc_top_of_atm_pressure(\n",
    "        planet_const.planet_specific_gas_constant, planet_const.planet_surface_gravity\n",
    "    ),\n",
    ")"
   ]
  },
  {
   "cell_type": "markdown",
   "id": "762885ff-dedf-4e47-8511-fd70a672903e",
   "metadata": {},
   "source": [
    "#### Check top-of-the-atmosphere pressure in the UM startdump"
   ]
  },
  {
   "cell_type": "code",
   "execution_count": 6,
   "id": "b50080f6-58d3-4ded-aefc-e18031a44ffb",
   "metadata": {},
   "outputs": [
    {
     "name": "stderr",
     "output_type": "stream",
     "text": [
      "/home/mz355/miniconda3/lib/python3.8/site-packages/iris/fileformats/_ff.py:739: UserWarning: The stash code m01s00i060 is on a grid 22 which has not been explicitly handled by the fieldsfile loader. Assuming the data is on a P grid.\n",
      "  warnings.warn(\n",
      "/home/mz355/miniconda3/lib/python3.8/site-packages/numpy/core/fromnumeric.py:3419: RuntimeWarning: Mean of empty slice.\n",
      "  return _methods._mean(a, axis=axis, dtype=dtype,\n",
      "/home/mz355/miniconda3/lib/python3.8/site-packages/numpy/core/_methods.py:188: RuntimeWarning: invalid value encountered in true_divide\n",
      "  ret = ret.dtype.type(ret / rcount)\n"
     ]
    }
   ],
   "source": [
    "planet = \"hatp11b\"\n",
    "path_to_astart = path_to_data_umserve / \"um_runs\" / planet / \"equilibrium\" / \"u-bl336\"\n",
    "fname = \"atmos.astart_4.6e6_1.60e+00\"\n",
    "exner = iris.load_cube(str(path_to_astart / fname), \"dimensionless_exner_function\")"
   ]
  },
  {
   "cell_type": "code",
   "execution_count": 7,
   "id": "476e2478-f388-4439-8d88-f9edaed5864e",
   "metadata": {},
   "outputs": [
    {
     "name": "stdout",
     "output_type": "stream",
     "text": [
      "Min pressure [Pa]: 1.60e+00\n",
      "Max pressure [Pa]: 1.82e+07\n"
     ]
    }
   ],
   "source": [
    "print(\n",
    "    f\"Min pressure [Pa]: {exner_to_pressure(exner, planet_const.planet_specific_gas_constant, planet_const.planet_specific_heat_capacity).data.min():0.2e}\"\n",
    ")\n",
    "print(\n",
    "    f\"Max pressure [Pa]: {exner_to_pressure(exner, planet_const.planet_specific_gas_constant, planet_const.planet_specific_heat_capacity).data.max():0.2e}\"\n",
    ")"
   ]
  },
  {
   "cell_type": "code",
   "execution_count": 8,
   "id": "4a58627f-c178-49b5-a37d-19ad274093b2",
   "metadata": {},
   "outputs": [],
   "source": [
    "# Checks for HAT-P-11b\n",
    "# atmos.astart_<height>_<pressure>\n",
    "# atmos.astart_3.8e6_6.67e+01\n",
    "# atmos.astart_4.1e6_1.68e+01\n",
    "# atmos.astart_4.3e6_6.69e+00\n",
    "# atmos.astart_4.4e6_4.09e+00\n",
    "# atmos.astart_4.6e6_1.60e+00"
   ]
  }
 ],
 "metadata": {
  "kernelspec": {
   "display_name": "Python 3",
   "language": "python",
   "name": "python3"
  },
  "language_info": {
   "codemirror_mode": {
    "name": "ipython",
    "version": 3
   },
   "file_extension": ".py",
   "mimetype": "text/x-python",
   "name": "python",
   "nbconvert_exporter": "python",
   "pygments_lexer": "ipython3",
   "version": "3.8.10"
  }
 },
 "nbformat": 4,
 "nbformat_minor": 5
}
