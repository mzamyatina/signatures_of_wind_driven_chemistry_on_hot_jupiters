{
 "cells": [
  {
   "cell_type": "code",
   "execution_count": null,
   "id": "rubber-boston",
   "metadata": {},
   "outputs": [],
   "source": [
    "import warnings\n",
    "from pathlib import Path\n",
    "\n",
    "import iris\n",
    "import numpy as np"
   ]
  },
  {
   "cell_type": "code",
   "execution_count": null,
   "id": "cc53d978-973f-4613-9611-90f17846e9b1",
   "metadata": {},
   "outputs": [],
   "source": [
    "from aeolus.coord import coord_to_cube, regrid_3d, replace_z_coord, volume_weights_cube\n",
    "from aeolus.model import um"
   ]
  },
  {
   "cell_type": "code",
   "execution_count": null,
   "id": "e91d5661-dda8-4077-bdd8-fca22866cc35",
   "metadata": {},
   "outputs": [],
   "source": [
    "from util_commons import STASH, SUITES"
   ]
  },
  {
   "cell_type": "code",
   "execution_count": null,
   "id": "welsh-season",
   "metadata": {},
   "outputs": [],
   "source": [
    "warnings.filterwarnings(\"ignore\", module=\"iris\")"
   ]
  },
  {
   "cell_type": "code",
   "execution_count": null,
   "id": "ethical-month",
   "metadata": {},
   "outputs": [],
   "source": [
    "# Select planet, experiment and metallicity\n",
    "planet = \"hd209458b\"\n",
    "exp = \"kinetics\"\n",
    "metallicity = \"1x solar\"\n",
    "\n",
    "if planet == \"hatp11b\" and exp == \"kinetics\" and metallicity == \"100solar\":\n",
    "    npath_1 = SUITES[planet][exp][metallicity][\"dir_for_raw_1\"]\n",
    "    npath_2 = SUITES[planet][exp][metallicity][\"dir_for_raw_2\"]\n",
    "    flist_1 = []\n",
    "    flist_2 = []\n",
    "    for file in npath_1.glob(\"**/atmosa.p*\"):  # this directory and all subdirectories, recursively\n",
    "        # Exclude the file containing 1 time slice for day 1000; use 5 time slices for days 1000-1050 instead\n",
    "        if \"/bd257/um_runs/kinetics/hatp11_rt/u-bl344/raw_output/atmos_base_1010/\" not in str(file):\n",
    "            if not str(file).endswith(\"arch\"):\n",
    "                if (\n",
    "                    \"atmosa.pb\" in file.name\n",
    "                    or \"atmosa.pc\" in file.name\n",
    "                    or \"atmosa.pd\" in file.name\n",
    "                    or \"atmosa.pe\" in file.name\n",
    "                    or \"atmosa.pf\" in file.name\n",
    "                    or \"atmosa.pg\" in file.name\n",
    "                ):\n",
    "                    flist_1.append(str(file))\n",
    "    for file in npath_2.glob(\"**/atmosa.p*\"):\n",
    "        if not str(file).endswith(\"arch\"):\n",
    "            if (\n",
    "                \"atmosa.pb\" in file.name\n",
    "                or \"atmosa.pc\" in file.name\n",
    "                or \"atmosa.pd\" in file.name\n",
    "                or \"atmosa.pe\" in file.name\n",
    "                or \"atmosa.pf\" in file.name\n",
    "                or \"atmosa.pg\" in file.name\n",
    "            ):\n",
    "                flist_2.append(str(file))\n",
    "    flist = flist_1 + flist_2\n",
    "else:\n",
    "    npath = SUITES[planet][exp][metallicity][\"dir_for_raw\"]\n",
    "    flist = []\n",
    "    for file in npath.glob(\"**/atmosa.p*\"):\n",
    "        if (\n",
    "            \"atmosa.pb\" in file.name\n",
    "            or \"atmosa.pc\" in file.name\n",
    "            or \"atmosa.pd\" in file.name\n",
    "            or \"atmosa.pe\" in file.name\n",
    "            or \"atmosa.pf\" in file.name\n",
    "            or \"atmosa.pg\" in file.name\n",
    "        ):\n",
    "            flist.append(str(file))\n",
    "# Print sorted list of raw files\n",
    "# len(sorted(flist))"
   ]
  },
  {
   "cell_type": "code",
   "execution_count": null,
   "id": "honey-quarterly",
   "metadata": {},
   "outputs": [],
   "source": [
    "# Load raw data\n",
    "cl = iris.load(flist, STASH.keys())  # 38 fields"
   ]
  },
  {
   "cell_type": "code",
   "execution_count": null,
   "id": "b162df07-5d38-4731-bc13-03834ecb7aa7",
   "metadata": {},
   "outputs": [],
   "source": [
    "# Create a folder for storing merged data\n",
    "(SUITES[planet][exp][metallicity][\"dir_for_merged\"]).mkdir(parents=False, exist_ok=True)\n",
    "if planet == \"hatp11b\" and exp == \"equilibrium\" and metallicity == \"100solar\":\n",
    "    fname = f\"{SUITES[planet][exp][metallicity]['rose_suite']}_100timesSolar.nc\"\n",
    "elif planet == \"hatp11b\" and exp == \"kinetics\" and metallicity == \"100solar\":\n",
    "    fname = f\"{SUITES[planet][exp][metallicity]['rose_suite']}_100timesSolar.nc\"\n",
    "else:\n",
    "    fname = f\"{SUITES[planet][exp][metallicity]['rose_suite']}.nc\""
   ]
  },
  {
   "cell_type": "code",
   "execution_count": null,
   "id": "7b6372c4-c524-404e-919e-5bd466dbb860",
   "metadata": {},
   "outputs": [],
   "source": [
    "# Rename chemical species from STASH items to \"<specie> mole fraction\"\n",
    "for key, value in STASH.items():\n",
    "    for cube in cl:\n",
    "        if key == cube.name() and \"mole fraction\" in value:\n",
    "            cube.rename(value)\n",
    "            cube.units = \"1\""
   ]
  },
  {
   "cell_type": "code",
   "execution_count": null,
   "id": "e0eb624b-8b81-4490-a816-6f5632f8a18d",
   "metadata": {},
   "outputs": [],
   "source": [
    "# Convert PosixPaths to strings to be able to save them to .nc as metadata\n",
    "for key, value in SUITES[planet][exp][metallicity].items():\n",
    "    if \"dir\" in key:\n",
    "        SUITES[planet][exp][metallicity][key] = str(value)\n",
    "\n",
    "cl_on_hlevs = iris.cube.CubeList()\n",
    "for cube in cl:\n",
    "    # Remove the lowest model_level_number to match other variables\n",
    "    if cube.name() in [\"air_pressure\", \"upward_air_velocity\"]:\n",
    "        new_cube = cube[:, 1:, ...]\n",
    "    else:\n",
    "        new_cube = cube\n",
    "    # Replace model_level_number by level_height as a dimensional vertical coordinate\n",
    "    if \"model_level_number\" in [coord.name() for coord in new_cube.dim_coords]:\n",
    "        new_cube = replace_z_coord(new_cube)\n",
    "    # Add metadata\n",
    "    new_cube.attributes.update(SUITES[planet][exp][metallicity])\n",
    "    cl_on_hlevs.append(new_cube)"
   ]
  },
  {
   "cell_type": "code",
   "execution_count": null,
   "id": "celtic-level",
   "metadata": {},
   "outputs": [],
   "source": [
    "# Save to .nc\n",
    "iris.save(\n",
    "    cl_on_hlevs,\n",
    "    str(Path(SUITES[planet][exp][metallicity][\"dir_for_merged\"]) / fname),\n",
    ")"
   ]
  }
 ],
 "metadata": {
  "kernelspec": {
   "display_name": "Python 3",
   "language": "python",
   "name": "python3"
  },
  "language_info": {
   "codemirror_mode": {
    "name": "ipython",
    "version": 3
   },
   "file_extension": ".py",
   "mimetype": "text/x-python",
   "name": "python",
   "nbconvert_exporter": "python",
   "pygments_lexer": "ipython3",
   "version": "3.8.10"
  }
 },
 "nbformat": 4,
 "nbformat_minor": 5
}
