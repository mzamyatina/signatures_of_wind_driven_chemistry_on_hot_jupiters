{
 "cells": [
  {
   "cell_type": "code",
   "execution_count": 1,
   "id": "1cb5ad98-f7cd-4375-a616-b8508bd29af6",
   "metadata": {},
   "outputs": [],
   "source": [
    "import warnings\n",
    "from pathlib import Path\n",
    "\n",
    "import iris\n",
    "import numpy as np\n",
    "from cf_units import Unit\n",
    "from tqdm.notebook import tqdm as tqdm"
   ]
  },
  {
   "cell_type": "code",
   "execution_count": 2,
   "id": "2dcc2159-aa0f-4b83-84f1-3865c8bf53c1",
   "metadata": {},
   "outputs": [],
   "source": [
    "from aeolus.coord import interp_cube_from_height_to_pressure_levels\n",
    "from aeolus.synthobs import read_spectral_bands"
   ]
  },
  {
   "cell_type": "code",
   "execution_count": 3,
   "id": "c020bcba-cba5-4c6b-8088-79be7bfd9154",
   "metadata": {},
   "outputs": [],
   "source": [
    "from util_commons import PLANETS, SUITES\n",
    "from util_mypaths import path_to_data_umserve, path_to_processed"
   ]
  },
  {
   "cell_type": "code",
   "execution_count": 4,
   "id": "cf02c09d-1df9-444a-84a8-a0883b4a47c3",
   "metadata": {},
   "outputs": [],
   "source": [
    "warnings.filterwarnings(\"ignore\", module=\"iris\")\n",
    "warnings.filterwarnings(\"ignore\", module=\"aeolus\")"
   ]
  },
  {
   "cell_type": "code",
   "execution_count": 5,
   "id": "f76ba483-e6cd-412d-8682-9f4894bc36a9",
   "metadata": {},
   "outputs": [],
   "source": [
    "# Parameters\n",
    "metallicity = \"1x solar\"\n",
    "tgt_plevs = np.logspace(7, 2, 65)  # target pressure levels"
   ]
  },
  {
   "cell_type": "code",
   "execution_count": 6,
   "id": "d18918d9-9c22-4b14-8cf3-24f73b5423e4",
   "metadata": {},
   "outputs": [],
   "source": [
    "# Read spectral bands from the SOCRATES spectral file\n",
    "# (band numbering and bounds are the same for HAT-P-11b, HD 189733b, HD 209458b and WASP-17b)\n",
    "path_to_star_spectrum_lw = SUITES[\"hatp11b\"][\"equilibrium\"][metallicity][\"dir_for_star_spectrum_lw\"]\n",
    "socrates_bands = read_spectral_bands(path_to_star_spectrum_lw)\n",
    "# SOCRATES bands corresponding to the center of the Spitzer/IRAC 3.6, 4.5, 5.8 and 8.0 micrometer channels,\n",
    "# and an extra band for 10.5 micrometers containing an NH3 feature\n",
    "BANDS = {\n",
    "    \"3.6\": {\n",
    "        \"species\": \"ch4\",\n",
    "        \"index\": 278,\n",
    "        \"bounds_socrates\": (socrates_bands[277][1], socrates_bands[277][2]),\n",
    "        \"bounds_spitzer_irac\": (3.081060, 4.010380),\n",
    "    },\n",
    "    \"4.5\": {\n",
    "        \"species\": \"co\",\n",
    "        \"index\": 223,\n",
    "        \"bounds_socrates\": (socrates_bands[222][1], socrates_bands[222][2]),\n",
    "        \"bounds_spitzer_irac\": (3.722490, 5.221980),\n",
    "    },\n",
    "    \"5.8\": {\n",
    "        \"species\": \"h2o\",\n",
    "        \"index\": 173,\n",
    "        \"bounds_socrates\": (socrates_bands[172][1], socrates_bands[172][2]),\n",
    "        \"bounds_spitzer_irac\": (4.744210, 6.622510),\n",
    "    },\n",
    "    \"8.0\": {\n",
    "        \"species\": \"ch4\",\n",
    "        \"index\": 125,\n",
    "        \"bounds_socrates\": (socrates_bands[124][1], socrates_bands[124][2]),\n",
    "        \"bounds_spitzer_irac\": (6.151150, 9.728750),\n",
    "    },\n",
    "    \"10.5\": {\n",
    "        \"species\": \"nh3\",\n",
    "        \"index\": 96,\n",
    "        \"bounds_socrates\": (socrates_bands[95][1], socrates_bands[95][2]),\n",
    "        \"bounds_spitzer_irac\": (socrates_bands[95][1] * 1e6, socrates_bands[95][2] * 1e6),\n",
    "    },\n",
    "}"
   ]
  },
  {
   "cell_type": "code",
   "execution_count": 7,
   "id": "6ac42689-6e94-4946-829c-6ed5ab6be226",
   "metadata": {},
   "outputs": [
    {
     "data": {
      "application/vnd.jupyter.widget-view+json": {
       "model_id": "055b16629a0d435fb4567dc96f943587",
       "version_major": 2,
       "version_minor": 0
      },
      "text/plain": [
       "  0%|          | 0/4 [00:00<?, ?it/s]"
      ]
     },
     "metadata": {},
     "output_type": "display_data"
    }
   ],
   "source": [
    "vrbls = {}\n",
    "for planet in tqdm(PLANETS.keys()):\n",
    "    vrbls[planet] = {}\n",
    "    for exp in [\"equilibrium\", \"kinetics\"]:\n",
    "        vrbls[planet][exp] = {}\n",
    "        # Load the last time step for air_pressure\n",
    "        fname = f\"{SUITES[planet][exp][metallicity]['rose_suite']}.nc\"\n",
    "        path_to_merged = SUITES[planet][exp][metallicity][\"dir_for_merged\"]\n",
    "        air_pressure = iris.load_cube(str(path_to_merged / fname), \"air_pressure\")[-1, ...]\n",
    "        # Load all bands of flux_contribution_function_lw\n",
    "        path_to_con_func = SUITES[planet][exp][metallicity][\"dir_for_flux_contribution_function_lw\"]\n",
    "        con_func_all_bands = iris.load_cube(str(path_to_con_func))\n",
    "        for band in BANDS.keys():\n",
    "            vrbls[planet][exp][band] = {}\n",
    "            band_in_nm = int(float(band) * 1e3)\n",
    "            # Select by band\n",
    "            con_func = con_func_all_bands[BANDS[band][\"index\"], ...]\n",
    "            con_func.rename(f\"flux_contribution_function_on_theta_levels_at_{band_in_nm}_nm\")\n",
    "            con_func.units = Unit(\"W m-2\")\n",
    "            # Relevel to pressure levels\n",
    "            con_func_plevs = interp_cube_from_height_to_pressure_levels(\n",
    "                con_func, air_pressure, tgt_plevs\n",
    "            )\n",
    "            con_func_plevs.rename(\n",
    "                f\"flux_contribution_function_on_pressure_levels_at_{band_in_nm}_nm\"\n",
    "            )\n",
    "            con_func_plevs.units = Unit(\"W m-2\")\n",
    "            # Normalise contribution function by the maximum column value column-wise\n",
    "            norm_con_func = con_func_plevs / con_func_plevs.collapsed(\n",
    "                \"air_pressure\", iris.analysis.MAX\n",
    "            )\n",
    "            norm_con_func.rename(\n",
    "                f\"normalised_flux_contribution_function_on_pressure_levels_at_{band_in_nm}_nm\"\n",
    "            )\n",
    "            norm_con_func.units = Unit(\"1\")\n",
    "            # Assemble data\n",
    "            vrbls[planet][exp][band] = {\n",
    "                \"con_func\": con_func,\n",
    "                \"con_func_plevs\": con_func_plevs,\n",
    "                \"norm_con_func\": norm_con_func,\n",
    "            }"
   ]
  },
  {
   "cell_type": "code",
   "execution_count": 8,
   "id": "150eeb11-c2c9-4280-8ec0-a53af6cbc0e6",
   "metadata": {},
   "outputs": [],
   "source": [
    "# Save\n",
    "for planet in PLANETS.keys():\n",
    "    for exp in [\"equilibrium\", \"kinetics\"]:\n",
    "        for band in BANDS.keys():\n",
    "            band_in_nm = int(float(band) * 1e3)\n",
    "            cl = [v for v in vrbls[planet][exp][band].values()]\n",
    "            iris.save(\n",
    "                cl,\n",
    "                str(\n",
    "                    path_to_processed\n",
    "                    / planet\n",
    "                    / exp\n",
    "                    / \"flux_contribution_function_lw_spitzer\"\n",
    "                    / f\"{planet}_{exp[0:3]}_flux_con_func_{band_in_nm}_nm.nc\"\n",
    "                ),\n",
    "            )"
   ]
  }
 ],
 "metadata": {
  "kernelspec": {
   "display_name": "Python 3",
   "language": "python",
   "name": "python3"
  },
  "language_info": {
   "codemirror_mode": {
    "name": "ipython",
    "version": 3
   },
   "file_extension": ".py",
   "mimetype": "text/x-python",
   "name": "python",
   "nbconvert_exporter": "python",
   "pygments_lexer": "ipython3",
   "version": "3.8.10"
  }
 },
 "nbformat": 4,
 "nbformat_minor": 5
}
