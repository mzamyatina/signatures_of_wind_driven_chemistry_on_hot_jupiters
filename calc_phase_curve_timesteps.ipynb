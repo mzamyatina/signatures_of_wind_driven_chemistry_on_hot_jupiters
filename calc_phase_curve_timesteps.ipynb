{
 "cells": [
  {
   "cell_type": "markdown",
   "id": "b3e180fa-0499-4dd5-b8a2-5e0468ab5ec5",
   "metadata": {},
   "source": [
    "## Find UM radiation timesteps closest to the chosen phase angles"
   ]
  },
  {
   "cell_type": "code",
   "execution_count": 1,
   "id": "154d1e9c-4db4-4681-83be-e09e8064afd2",
   "metadata": {},
   "outputs": [],
   "source": [
    "import numpy as np"
   ]
  },
  {
   "cell_type": "code",
   "execution_count": 2,
   "id": "014adeda-f8dc-495b-b619-15e8369a8556",
   "metadata": {},
   "outputs": [],
   "source": [
    "from aeolus.const import init_const"
   ]
  },
  {
   "cell_type": "code",
   "execution_count": 3,
   "id": "2502643f-6f58-421b-96a3-c94d26a53fb4",
   "metadata": {},
   "outputs": [],
   "source": [
    "from util_commons import PLANETS\n",
    "from util_mypaths import path_to_constants"
   ]
  },
  {
   "cell_type": "code",
   "execution_count": 4,
   "id": "78c2da9a-7688-48af-a220-072eee2b38d0",
   "metadata": {},
   "outputs": [],
   "source": [
    "# Parameters\n",
    "hatp11b_const = init_const(\"hatp11b\", directory=path_to_constants)\n",
    "hd189733b_const = init_const(\"hd189733b\", directory=path_to_constants)\n",
    "hd209458b_const = init_const(\"hd209458b\", directory=path_to_constants)\n",
    "wasp17b_const = init_const(\"wasp17b\", directory=path_to_constants)\n",
    "PLANET_CONSTS = [hatp11b_const, hd189733b_const, hd209458b_const, wasp17b_const]"
   ]
  },
  {
   "cell_type": "code",
   "execution_count": 5,
   "id": "b3392b6e-42e3-4c1f-9ffe-bddc2289d77e",
   "metadata": {},
   "outputs": [],
   "source": [
    "def calc_star_planet_separation_angle(star_radius, planet_semi_major_axis):\n",
    "    \"\"\"Calculate the star-planet separation angle [degrees], which is the angle between (a) and (b), where\n",
    "    (a) secondary eclipse, i.e., when a star eclipses a planet and star-planet centers are aligned, and\n",
    "    (b) angle, when a maximum area of the planetary dayside is visible to the observer before or after (a).\n",
    "    Formula: $\\theta=\\arcsin(\\frac{R_{star}}{a})$\"\"\"\n",
    "    universal = init_const(\"universal\", directory=path_to_constants)\n",
    "\n",
    "    star_planet_separation_angle = np.rad2deg(\n",
    "        np.arcsin(star_radius.data / (planet_semi_major_axis.data * universal.au.data))\n",
    "    )\n",
    "    return star_planet_separation_angle"
   ]
  },
  {
   "cell_type": "markdown",
   "id": "286ac055-c0d9-477e-9e89-650c5f0d7358",
   "metadata": {},
   "source": [
    "We calculate emission spectra as a straight average of the spectra at two phase angles, when a maximum area of the planetary dayside is visible to the observer before and after the secondary eclipse. The star-planet separation angle required for that is found using:\n",
    "\n",
    "$\\sin{\\theta}=\\frac{R_{star}}{a}$, where $R_{star}$ is the stellar radius [m], and $a$ is the planetary semi-major axis [m], so $\\theta=\\arcsin(\\frac{R_{star}}{a})$."
   ]
  },
  {
   "cell_type": "markdown",
   "id": "8cd097e8-097f-4d02-aa96-ebfef0bfd859",
   "metadata": {},
   "source": [
    "1. Find the star-planet separation angle"
   ]
  },
  {
   "cell_type": "code",
   "execution_count": 6,
   "id": "0c89f2f7-b583-4f9c-8939-7ca82a63af30",
   "metadata": {},
   "outputs": [
    {
     "data": {
      "text/plain": [
       "{'hatp11b': {'star_planet_separation_angle': 3.4616338231995294},\n",
       " 'hd189733b': {'star_planet_separation_angle': 6.388682667512781},\n",
       " 'hd209458b': {'star_planet_separation_angle': 6.533274226136118},\n",
       " 'wasp17b': {'star_planet_separation_angle': 8.240204604688666}}"
      ]
     },
     "execution_count": 6,
     "metadata": {},
     "output_type": "execute_result"
    }
   ],
   "source": [
    "thetas = {}\n",
    "for planet, planet_const in zip(PLANETS.keys(), PLANET_CONSTS):\n",
    "    star_planet_separation_angle = calc_star_planet_separation_angle(\n",
    "        planet_const.star_radius, planet_const.planet_semi_major_axis\n",
    "    )\n",
    "    thetas[planet] = {\"star_planet_separation_angle\": star_planet_separation_angle}\n",
    "thetas"
   ]
  },
  {
   "cell_type": "markdown",
   "id": "63290dd3-377d-4c63-b0d2-635f9bcf7df1",
   "metadata": {},
   "source": [
    "2. Determine the phase angle increment between two subsequent radiation timesteps by running the UM for 1 radiation timestep (in this work occuring every 5 dynamics timesteps)"
   ]
  },
  {
   "cell_type": "code",
   "execution_count": 7,
   "id": "5eff906a-f055-445c-9814-16a4bf59a1c2",
   "metadata": {},
   "outputs": [],
   "source": [
    "timings = {\n",
    "    \"hatp11b\": {\n",
    "        \"start_ts\": 2880001,  # dynamics timestep\n",
    "        \"start_phase_ang\": np.rad2deg(2.27761361148305),\n",
    "        \"d_phase_ang_dt\": np.rad2deg(2.27984526201999 - 2.27761361148305) / 5,\n",
    "    },\n",
    "    \"hd189733b\": {\n",
    "        \"start_ts\": 2880001,\n",
    "        \"start_phase_ang\": np.rad2deg(2.94442707889721),\n",
    "        \"d_phase_ang_dt\": np.rad2deg(2.94934294542418 - 2.94442707889721) / 5,\n",
    "    },\n",
    "    \"hd209458b\": {\n",
    "        \"start_ts\": 2880001,\n",
    "        \"start_phase_ang\": np.rad2deg(3.74472150325983),\n",
    "        \"d_phase_ang_dt\": np.rad2deg(3.74781605867111 - 3.74472150325983) / 5,\n",
    "    },\n",
    "    \"wasp17b\": {\n",
    "        \"start_ts\": 2880001,\n",
    "        \"start_phase_ang\": np.rad2deg(4.44258724628298),\n",
    "        \"d_phase_ang_dt\": np.rad2deg(4.44550781062708 - 4.44258724628298) / 5,\n",
    "    },\n",
    "}"
   ]
  },
  {
   "cell_type": "code",
   "execution_count": 8,
   "id": "85605470-8607-459a-9d65-0cf5b00bbd53",
   "metadata": {},
   "outputs": [
    {
     "data": {
      "text/plain": [
       "{'hatp11b': {'star_planet_separation_angle': 3.4616338231995294,\n",
       "  'start_ts': 2880001,\n",
       "  'start_phase_ang': 130.49764729952798,\n",
       "  'd_phase_ang_dt': 0.02557283142295282},\n",
       " 'hd189733b': {'star_planet_separation_angle': 6.388682667512781,\n",
       "  'start_ts': 2880001,\n",
       "  'start_phase_ang': 168.70324470484357,\n",
       "  'd_phase_ang_dt': 0.05633168092900505},\n",
       " 'hd209458b': {'star_planet_separation_angle': 6.533274226136118,\n",
       "  'start_ts': 2880001,\n",
       "  'start_phase_ang': 214.5567375886734,\n",
       "  'd_phase_ang_dt': 0.03546099290714304},\n",
       " 'wasp17b': {'star_planet_separation_angle': 8.240204604688666,\n",
       "  'start_ts': 2880001,\n",
       "  'start_phase_ang': 254.5414993306612,\n",
       "  'd_phase_ang_dt': 0.033467202142663896}}"
      ]
     },
     "execution_count": 8,
     "metadata": {},
     "output_type": "execute_result"
    }
   ],
   "source": [
    "# Merge dictionaries\n",
    "vrbls = {k: {**thetas[k], **timings[k]} for k in thetas.keys()}\n",
    "vrbls"
   ]
  },
  {
   "cell_type": "markdown",
   "id": "261e33ec-1c7e-41b8-9ab3-1ac2581265d0",
   "metadata": {},
   "source": [
    "3. Choose planet and phase angles to create UM output for"
   ]
  },
  {
   "cell_type": "code",
   "execution_count": 9,
   "id": "1fa9daef-76b2-4996-99a2-879bf07a217b",
   "metadata": {},
   "outputs": [],
   "source": [
    "# Choose planet\n",
    "planet = \"hd209458b\"  # hatp11b, hd189733b, hd209458b, wasp17b\n",
    "start_ts = vrbls[planet][\"start_ts\"]\n",
    "start_phase_ang = vrbls[planet][\"start_phase_ang\"]\n",
    "d_phase_ang_dt = vrbls[planet][\"d_phase_ang_dt\"]\n",
    "theta = vrbls[planet][\"star_planet_separation_angle\"]\n",
    "# Choose phase angles\n",
    "phase_angs = [\n",
    "    180 - theta,\n",
    "    180,  # secondary eclipse\n",
    "    180 + theta,\n",
    "    210,\n",
    "    240,\n",
    "    270,\n",
    "    300,\n",
    "    330,\n",
    "    360,\n",
    "    390,\n",
    "    420,\n",
    "    450,\n",
    "    480,\n",
    "    510,\n",
    "    540,  # secondary eclipse\n",
    "]"
   ]
  },
  {
   "cell_type": "code",
   "execution_count": 10,
   "id": "6b95efb3-88fb-4e7c-8945-d150ce46c0b6",
   "metadata": {},
   "outputs": [
    {
     "data": {
      "text/plain": [
       "8.183306055664154"
      ]
     },
     "execution_count": 10,
     "metadata": {},
     "output_type": "execute_result"
    }
   ],
   "source": [
    "# hatp11b\n",
    "np.rad2deg(3.14126236931043 - 2.99843673494070)"
   ]
  },
  {
   "cell_type": "code",
   "execution_count": 11,
   "id": "1f093b32-8212-4a64-8712-47fbb29b9e6b",
   "metadata": {},
   "outputs": [
    {
     "data": {
      "text/plain": [
       "6.478143307775015"
      ]
     },
     "execution_count": 11,
     "metadata": {},
     "output_type": "execute_result"
    }
   ],
   "source": [
    "# hd189733b\n",
    "np.rad2deg(3.14106174000426 - 3.02799680986755)"
   ]
  },
  {
   "cell_type": "code",
   "execution_count": 12,
   "id": "dc9963f3-a7e8-40c7-92a3-5dae913d974d",
   "metadata": {},
   "outputs": [
    {
     "data": {
      "text/plain": [
       "8.156028368774065"
      ]
     },
     "execution_count": 12,
     "metadata": {},
     "output_type": "execute_result"
    }
   ],
   "source": [
    "# hd209458b\n",
    "np.rad2deg(3.14004537588380 - 2.99769582696263)"
   ]
  },
  {
   "cell_type": "code",
   "execution_count": 13,
   "id": "30243590-7e4d-455a-b8c1-c7c3c5fb6d65",
   "metadata": {},
   "outputs": [
    {
     "data": {
      "text/plain": [
       "8.199464524755179"
      ]
     },
     "execution_count": 13,
     "metadata": {},
     "output_type": "execute_result"
    }
   ],
   "source": [
    "# wasp17b\n",
    "np.rad2deg(3.14188471002399 - 2.99877705716654)"
   ]
  },
  {
   "cell_type": "markdown",
   "id": "28a267de-249a-4dc3-96f7-9cfd46798e1a",
   "metadata": {},
   "source": [
    "4. Find radiation timesteps closest to the chosen phase angles"
   ]
  },
  {
   "cell_type": "code",
   "execution_count": 14,
   "id": "d8b66cfc-469f-497e-9e5c-9ab6831525cf",
   "metadata": {},
   "outputs": [
    {
     "name": "stdout",
     "output_type": "stream",
     "text": [
      "3.027565507408034 173.4667257738639 2888996\n",
      "3.141592653589793 180 2889176\n",
      "3.2556197997715524 186.5332742261361 2889361\n",
      "3.6651914291880923 210 2890026\n",
      "4.1887902047863905 240 2890871\n",
      "4.71238898038469 270 2891716\n",
      "5.235987755982989 300 2892561\n",
      "5.759586531581287 330 2893406\n",
      "0.0 0 2894256\n",
      "0.5235987755982988 30 2895101\n",
      "1.0471975511965976 60 2895946\n",
      "1.5707963267948966 90 2896791\n",
      "2.0943951023931953 120 2897636\n",
      "2.6179938779914944 150 2898486\n",
      "3.141592653589793 180 2899331\n"
     ]
    }
   ],
   "source": [
    "# List of radiation timesteps over two orbits\n",
    "rad_ts = np.arange(start_ts, start_ts + np.ceil(360 * 2 / d_phase_ang_dt), 5, dtype=int)\n",
    "\n",
    "rad_ts_closest_to_phase_ang = []\n",
    "for phase_ang in phase_angs:\n",
    "    # Take the next orbit if the starting UM timestep corresponds to a phase angle > 180\n",
    "    if start_phase_ang > 180:  # true for hd209458b, wasp17b\n",
    "        phase_ang += 360\n",
    "    exact_ts = start_ts + int((phase_ang - start_phase_ang) / d_phase_ang_dt)\n",
    "    idx = np.argmin(np.abs(rad_ts - exact_ts))\n",
    "    rad_ts_closest_to_phase_ang.append(rad_ts[idx])\n",
    "\n",
    "    print(np.deg2rad(phase_ang % 360), phase_ang % 360, rad_ts[idx])"
   ]
  },
  {
   "cell_type": "raw",
   "id": "49a5980b-f4fd-4e62-825d-f06b0cfab4a9",
   "metadata": {},
   "source": [
    "Metadata used to obtain emission spectra and phase curves\n",
    "\n",
    "hatp11b\n",
    "Atm_Step: Timestep  2880001   Model time:   2005-02-17 09:00:30\n",
    "Phase angle of orbit =  2.27761361148305\n",
    "Atm_Step: Timestep  2880006   Model time:   2005-02-17 09:03:00\n",
    "Phase angle of orbit =  2.27984526201999\n",
    "iser=2881801,2881936,2882071,2883111,2884281,2885456,2886631,\n",
    "    =2887801,2888976,2890146,2891321,2892496,2893666,2894841,\n",
    "    =2896016\n",
    "Atm_Step: Timestep  2881801   Model time:   2005-02-18 00:00:30\n",
    "Phase angle of orbit =  3.08100780481072\n",
    "Atm_Step: Timestep  2881936   Model time:   2005-02-18 01:08:00\n",
    "Phase angle of orbit =  3.14126236931043\n",
    "Atm_Step: Timestep  2882071   Model time:   2005-02-18 02:15:30\n",
    "Phase angle of orbit =  3.20151693381013\n",
    "Atm_Step: Timestep  2883111   Model time:   2005-02-18 10:55:30\n",
    "Phase angle of orbit =  3.66570024551083\n",
    "Atm_Step: Timestep  2884281   Model time:   2005-02-18 20:40:30\n",
    "Phase angle of orbit =  4.18790647117385\n",
    "Atm_Step: Timestep  2885456   Model time:   2005-02-19 06:28:00\n",
    "Phase angle of orbit =  4.71234434737426\n",
    "Atm_Step: Timestep  2886631   Model time:   2005-02-19 16:15:30\n",
    "Phase angle of orbit =  5.23678222357421\n",
    "Atm_Step: Timestep  2887801   Model time:   2005-02-20 02:00:30\n",
    "Phase angle of orbit =  5.75898844923768\n",
    "Atm_Step: Timestep  2888976   Model time:   2005-02-20 11:48:00\n",
    "Phase angle of orbit =  0.00024101825784\n",
    "Atm_Step: Timestep  2890146   Model time:   2005-02-20 21:33:00\n",
    "Phase angle of orbit =  0.52244724392085\n",
    "Atm_Step: Timestep  2891321   Model time:   2005-02-21 07:20:30\n",
    "Phase angle of orbit =  1.04688512012126\n",
    "Atm_Step: Timestep  2892496   Model time:   2005-02-21 17:08:00\n",
    "Phase angle of orbit =  1.57132299632121\n",
    "Atm_Step: Timestep  2893666   Model time:   2005-02-22 02:53:00\n",
    "Phase angle of orbit =  2.09352922198468\n",
    "Atm_Step: Timestep  2894841   Model time:   2005-02-22 12:40:30\n",
    "Phase angle of orbit =  2.61796709818464\n",
    "Atm_Step: Timestep  2896016   Model time:   2005-02-22 22:28:00\n",
    "Phase angle of orbit =  3.14240497438504\n",
    "\n",
    "\n",
    "hd189733b\n",
    "Atm_Step: Timestep  2880001   Model time:   2005-02-17 09:00:30\n",
    "Phase angle of orbit =  2.94442707889721\n",
    "Atm_Step: Timestep  2880006   Model time:   2005-02-17 09:03:00\n",
    "Phase angle of orbit =  2.94934294542418\n",
    "iser=2880086,2880201,2880316,2880736,2881266,2881801,2882331,                   \n",
    "    =2882866,2883396,2883931,2884461,2884996,2885526,2886061,                   \n",
    "    =2886591\n",
    "Atm_Step: Timestep  2880086   Model time:   2005-02-17 09:43:00\n",
    "Phase angle of orbit =  3.02799680986755\n",
    "Atm_Step: Timestep  2880201   Model time:   2005-02-17 10:40:30\n",
    "Phase angle of orbit =  3.14106174000426\n",
    "Atm_Step: Timestep  2880316   Model time:   2005-02-17 11:38:00\n",
    "Phase angle of orbit =  3.25412667014189\n",
    "Atm_Step: Timestep  2880736   Model time:   2005-02-17 15:08:00\n",
    "Phase angle of orbit =  3.66705945846843\n",
    "Atm_Step: Timestep  2881266   Model time:   2005-02-17 19:33:00\n",
    "Phase angle of orbit =  4.18814131040472\n",
    "Atm_Step: Timestep  2881801   Model time:   2005-02-18 00:00:30\n",
    "Phase angle of orbit =  4.71413902886889\n",
    "Atm_Step: Timestep  2882331   Model time:   2005-02-18 04:25:30\n",
    "Phase angle of orbit =  5.23522088080426\n",
    "Atm_Step: Timestep  2882866   Model time:   2005-02-18 08:53:00\n",
    "Phase angle of orbit =  5.76121859926843\n",
    "Atm_Step: Timestep  2883396   Model time:   2005-02-18 13:18:00\n",
    "Phase angle of orbit =  6.28230045120472\n",
    "Atm_Step: Timestep  2883931   Model time:   2005-02-18 17:45:30\n",
    "Phase angle of orbit =  0.52511286248864\n",
    "Atm_Step: Timestep  2884461   Model time:   2005-02-18 22:10:30\n",
    "Phase angle of orbit =  1.04619471442493\n",
    "Atm_Step: Timestep  2884996   Model time:   2005-02-19 02:38:00\n",
    "Phase angle of orbit =  1.57219243288910\n",
    "Atm_Step: Timestep  2885526   Model time:   2005-02-19 07:03:00\n",
    "Phase angle of orbit =  2.09327428482447\n",
    "Atm_Step: Timestep  2886061   Model time:   2005-02-19 11:30:30\n",
    "Phase angle of orbit =  2.61927200328864\n",
    "Atm_Step: Timestep  2886591   Model time:   2005-02-19 15:55:30\n",
    "Phase angle of orbit =  3.14035385522493\n",
    "\n",
    "\n",
    "hd209458b\n",
    "Atm_Step: Timestep  2880001   Model time:   2005-02-17 09:00:30\n",
    "Phase angle of orbit =  3.74472150325983\n",
    "Atm_Step: Timestep  2880006   Model time:   2005-02-17 09:03:00\n",
    "Phase angle of orbit =  3.74781605867111\n",
    "iser=2888996,2889176,2889361,2890026,2890871,2891716,2892561,\n",
    "    =2893406,2894256,2895101,2895946,2896791,2897636,2898486,\n",
    "    =2899331\n",
    "Atm_Step: Timestep  2888996   Model time:   2005-02-20 11:58:00\n",
    "Phase angle of orbit =  3.02864138107589\n",
    "Atm_Step: Timestep  2889176   Model time:   2005-02-20 13:28:00\n",
    "Phase angle of orbit =  3.14004537588380\n",
    "Atm_Step: Timestep  2889361   Model time:   2005-02-20 15:00:30\n",
    "Phase angle of orbit =  3.25454392610391\n",
    "Atm_Step: Timestep  2890026   Model time:   2005-02-20 20:33:00\n",
    "Phase angle of orbit =  3.66611979581148\n",
    "Atm_Step: Timestep  2890871   Model time:   2005-02-21 03:35:30\n",
    "Phase angle of orbit =  4.18909966032743\n",
    "Atm_Step: Timestep  2891716   Model time:   2005-02-21 10:38:00\n",
    "Phase angle of orbit =  4.71207952484338\n",
    "Atm_Step: Timestep  2892561   Model time:   2005-02-21 17:40:30\n",
    "Phase angle of orbit =  5.23505938935978\n",
    "Atm_Step: Timestep  2893406   Model time:   2005-02-22 00:43:00\n",
    "Phase angle of orbit =  5.75803925387527\n",
    "Atm_Step: Timestep  2894256   Model time:   2005-02-22 07:48:00\n",
    "Phase angle of orbit =  0.00092836662361\n",
    "Atm_Step: Timestep  2895101   Model time:   2005-02-22 14:50:30\n",
    "Phase angle of orbit =  0.52390823113956\n",
    "Atm_Step: Timestep  2895946   Model time:   2005-02-22 21:53:00\n",
    "Phase angle of orbit =  1.04688809565596\n",
    "Atm_Step: Timestep  2896791   Model time:   2005-02-23 04:55:30\n",
    "Phase angle of orbit =  1.56986796017190\n",
    "Atm_Step: Timestep  2897636   Model time:   2005-02-23 11:58:00\n",
    "Phase angle of orbit =  2.09284782468740\n",
    "Atm_Step: Timestep  2898486   Model time:   2005-02-23 19:03:00\n",
    "Phase angle of orbit =  2.61892224461508\n",
    "Atm_Step: Timestep  2899331   Model time:   2005-02-24 02:05:30\n",
    "Phase angle of orbit =  3.14190210913102\n",
    "\n",
    "\n",
    "wasp17b\n",
    "Atm_Step: Timestep  2880001   Model time:   2005-02-17 09:00:30\n",
    "Phase angle of orbit =  4.44258724628298\n",
    "Atm_Step: Timestep  2880006   Model time:   2005-02-17 09:03:00\n",
    "Phase angle of orbit =  4.44550781062708\n",
    "iser=2888286,2888531,2888776,2889426,2890321,2891221,2892116,\n",
    "    =2893011,2893906,2894806,2895701,2896596,2897496,2898391,\n",
    "    =2899286\n",
    "Atm_Step: Timestep  2888286   Model time:   2005-02-20 06:03:00\n",
    "Phase angle of orbit =  2.99877705716654\n",
    "Atm_Step: Timestep  2888531   Model time:   2005-02-20 08:05:30\n",
    "Phase angle of orbit =  3.14188471002399\n",
    "Atm_Step: Timestep  2888776   Model time:   2005-02-20 10:08:00\n",
    "Phase angle of orbit =  3.28499236288189\n",
    "Atm_Step: Timestep  2889426   Model time:   2005-02-20 15:33:00\n",
    "Phase angle of orbit =  3.66466572760601\n",
    "Atm_Step: Timestep  2890321   Model time:   2005-02-20 23:00:30\n",
    "Phase angle of orbit =  4.18744674518803\n",
    "Atm_Step: Timestep  2891221   Model time:   2005-02-21 06:30:30\n",
    "Phase angle of orbit =  4.71314832711414\n",
    "Atm_Step: Timestep  2892116   Model time:   2005-02-21 13:58:00\n",
    "Phase angle of orbit =  5.23592934469616\n",
    "Atm_Step: Timestep  2893011   Model time:   2005-02-21 21:25:30\n",
    "Phase angle of orbit =  5.75871036227818\n",
    "Atm_Step: Timestep  2893906   Model time:   2005-02-22 04:53:00\n",
    "Phase angle of orbit =  6.28149137986020\n",
    "Atm_Step: Timestep  2894806   Model time:   2005-02-22 12:23:00\n",
    "Phase angle of orbit =  0.52400765460698\n",
    "Atm_Step: Timestep  2895701   Model time:   2005-02-22 19:50:30\n",
    "Phase angle of orbit =  1.04678867218854\n",
    "Atm_Step: Timestep  2896596   Model time:   2005-02-23 03:18:00\n",
    "Phase angle of orbit =  1.56956968977056\n",
    "Atm_Step: Timestep  2897496   Model time:   2005-02-23 10:48:00\n",
    "Phase angle of orbit =  2.09527127169667\n",
    "Atm_Step: Timestep  2898391   Model time:   2005-02-23 18:15:30\n",
    "Phase angle of orbit =  2.61805228927824\n",
    "Atm_Step: Timestep  2899286   Model time:   2005-02-24 01:43:00\n",
    "Phase angle of orbit =  3.14083330686026"
   ]
  }
 ],
 "metadata": {
  "kernelspec": {
   "display_name": "Python 3",
   "language": "python",
   "name": "python3"
  },
  "language_info": {
   "codemirror_mode": {
    "name": "ipython",
    "version": 3
   },
   "file_extension": ".py",
   "mimetype": "text/x-python",
   "name": "python",
   "nbconvert_exporter": "python",
   "pygments_lexer": "ipython3",
   "version": "3.8.10"
  }
 },
 "nbformat": 4,
 "nbformat_minor": 5
}
