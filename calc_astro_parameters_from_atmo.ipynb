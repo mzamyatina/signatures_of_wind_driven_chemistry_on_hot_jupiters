{
 "cells": [
  {
   "cell_type": "markdown",
   "id": "d7b0fa1b-514a-42bd-9193-fbeea9532548",
   "metadata": {},
   "source": [
    "## Calculate UM-required quantities from ATMO"
   ]
  },
  {
   "cell_type": "code",
   "execution_count": 1,
   "id": "1c5cccc0-9248-43e1-b83b-936a44a73cbd",
   "metadata": {},
   "outputs": [],
   "source": [
    "from pathlib import Path\n",
    "\n",
    "import iris"
   ]
  },
  {
   "cell_type": "code",
   "execution_count": 2,
   "id": "131938ea-9692-4572-82ad-57dd6fd89848",
   "metadata": {},
   "outputs": [],
   "source": [
    "# Choose planet\n",
    "planet = \"wasp17b\"  # hatp11b hd189733b hd209458b wasp17b"
   ]
  },
  {
   "cell_type": "code",
   "execution_count": 3,
   "id": "576c5254-1772-41f8-a92e-ac699ec272be",
   "metadata": {},
   "outputs": [
    {
     "name": "stdout",
     "output_type": "stream",
     "text": [
      "Mean molar mass of air 2.3629018165415685 [g mol-1]\n",
      "Specific gas constant 3518.749590776207 [J K-1 kg-1]\n",
      "Specific heat capacity 13214.992324612836 [J K-1 kg-1]\n",
      "Molar heat capacity 31.22572936941056 [J K-1 mol-1]\n"
     ]
    }
   ],
   "source": [
    "# Load data\n",
    "path_to_atmo_init = Path(f\"/data/mz355/um_inputs/planets/{planet}/initial_profile\")\n",
    "fname = f\"chem_{planet}_equilibrium.ncdf\"  # _mdh_0 or _mdh_2 for hatp11b\n",
    "mean_molar_mass = iris.load_cube(str(path_to_atmo_init / fname), \"mean_mol_mass\")\n",
    "specific_heat_capacity = iris.load_cube(str(path_to_atmo_init / fname), \"cp\")\n",
    "# Get number of model levels in ATMO\n",
    "nlevs = mean_molar_mass.shape[0]\n",
    "# Compute a straight column average of mean_molar_mass and specific_heat_capacity\n",
    "mean_molar_mass_avg = sum(mean_molar_mass.data) / nlevs\n",
    "specific_heat_capacity_avg = sum(specific_heat_capacity.data) / nlevs\n",
    "# Print\n",
    "print(\"Mean molar mass of air\", mean_molar_mass_avg, \"[g mol-1]\")\n",
    "print(\"Specific gas constant\", 8.3144598 / mean_molar_mass_avg * 1e3, \"[J K-1 kg-1]\")\n",
    "print(\"Specific heat capacity\", specific_heat_capacity_avg * 1e-7 * 1e3, \"[J K-1 kg-1]\")\n",
    "print(\n",
    "    \"Molar heat capacity\", specific_heat_capacity_avg * 1e-7 * mean_molar_mass_avg, \"[J K-1 mol-1]\"\n",
    ")"
   ]
  }
 ],
 "metadata": {
  "kernelspec": {
   "display_name": "Python 3",
   "language": "python",
   "name": "python3"
  },
  "language_info": {
   "codemirror_mode": {
    "name": "ipython",
    "version": 3
   },
   "file_extension": ".py",
   "mimetype": "text/x-python",
   "name": "python",
   "nbconvert_exporter": "python",
   "pygments_lexer": "ipython3",
   "version": "3.8.10"
  }
 },
 "nbformat": 4,
 "nbformat_minor": 5
}
