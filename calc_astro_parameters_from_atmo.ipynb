{
 "cells": [
  {
   "cell_type": "markdown",
   "id": "d7b0fa1b-514a-42bd-9193-fbeea9532548",
   "metadata": {},
   "source": [
    "## Calculate required quantities from ATMO"
   ]
  },
  {
   "cell_type": "code",
   "execution_count": 1,
   "id": "1c5cccc0-9248-43e1-b83b-936a44a73cbd",
   "metadata": {},
   "outputs": [],
   "source": [
    "from pathlib import Path\n",
    "\n",
    "import iris"
   ]
  },
  {
   "cell_type": "code",
   "execution_count": 2,
   "id": "f73f17fd-0d61-464f-a854-82d859bac1b9",
   "metadata": {},
   "outputs": [],
   "source": [
    "from util_commons import PLANETS\n",
    "from util_mypaths import path_to_data_umserve"
   ]
  },
  {
   "cell_type": "code",
   "execution_count": 3,
   "id": "576c5254-1772-41f8-a92e-ac699ec272be",
   "metadata": {},
   "outputs": [
    {
     "name": "stdout",
     "output_type": "stream",
     "text": [
      "HAT-P-11b\n",
      "Mean molar mass of air [g mol-1]: 2.3659217693209884\n",
      "Specific gas constant [J K-1 kg-1]: 3514.2581245981864\n",
      "Specific heat capacity [J K-1 kg-1]: 12383.125443324243\n",
      "Molar heat capacity [J K-1 mol-1] 29.29750605859344\n",
      "HD 189733b\n",
      "Mean molar mass of air [g mol-1]: 2.364688445909212\n",
      "Specific gas constant [J K-1 kg-1]: 3516.0910158729716\n",
      "Specific heat capacity [J K-1 kg-1]: 12523.753867357187\n",
      "Molar heat capacity [J K-1 mol-1] 29.61477606955035\n",
      "HD 209458b\n",
      "Mean molar mass of air [g mol-1]: 2.3643128599845658\n",
      "Specific gas constant [J K-1 kg-1]: 3516.6495689805943\n",
      "Specific heat capacity [J K-1 kg-1]: 12802.798622139124\n",
      "Molar heat capacity [J K-1 mol-1] 30.26982142611621\n",
      "WASP-17b\n",
      "Mean molar mass of air [g mol-1]: 2.3629018165415685\n",
      "Specific gas constant [J K-1 kg-1]: 3518.749590776207\n",
      "Specific heat capacity [J K-1 kg-1]: 13214.992324612836\n",
      "Molar heat capacity [J K-1 mol-1] 31.22572936941056\n"
     ]
    }
   ],
   "source": [
    "for planet in PLANETS.keys():\n",
    "    # Load data\n",
    "    path_to_atmo_init = path_to_data_umserve / \"um_inputs\" / \"planets\" / planet / \"initial_profile\"\n",
    "    if planet == \"hatp11b\":\n",
    "        fname = f\"chem_{planet}_equilibrium_mdh_0.ncdf\"\n",
    "    else:\n",
    "        fname = f\"chem_{planet}_equilibrium.ncdf\"\n",
    "    mean_molar_mass = iris.load_cube(str(path_to_atmo_init / fname), \"mean_mol_mass\")\n",
    "    specific_heat_capacity = iris.load_cube(str(path_to_atmo_init / fname), \"cp\")\n",
    "    # Get number of model levels in ATMO\n",
    "    nlevs = mean_molar_mass.shape[0]\n",
    "    # Compute a straight column average of mean_molar_mass and specific_heat_capacity\n",
    "    mean_molar_mass_avg = sum(mean_molar_mass.data) / nlevs\n",
    "    specific_heat_capacity_avg = sum(specific_heat_capacity.data) / nlevs\n",
    "    # Print\n",
    "    print(PLANETS[planet][\"tex\"])\n",
    "    print(\"Mean molar mass of air [g mol-1]:\", mean_molar_mass_avg)\n",
    "    print(\"Specific gas constant [J K-1 kg-1]:\", 8.3144598 / mean_molar_mass_avg * 1e3)\n",
    "    print(\n",
    "        \"Specific heat capacity [J K-1 kg-1]:\",\n",
    "        specific_heat_capacity_avg * 1e-7 * 1e3,\n",
    "    )\n",
    "    print(\n",
    "        \"Molar heat capacity [J K-1 mol-1]\", specific_heat_capacity_avg * 1e-7 * mean_molar_mass_avg\n",
    "    )"
   ]
  }
 ],
 "metadata": {
  "kernelspec": {
   "display_name": "Python 3",
   "language": "python",
   "name": "python3"
  },
  "language_info": {
   "codemirror_mode": {
    "name": "ipython",
    "version": 3
   },
   "file_extension": ".py",
   "mimetype": "text/x-python",
   "name": "python",
   "nbconvert_exporter": "python",
   "pygments_lexer": "ipython3",
   "version": "3.8.10"
  }
 },
 "nbformat": 4,
 "nbformat_minor": 5
}
